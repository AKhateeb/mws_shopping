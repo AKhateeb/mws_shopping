{
 "cells": [
  {
   "cell_type": "code",
   "execution_count": 13,
   "metadata": {},
   "outputs": [],
   "source": [
    "from django.shortcuts import render\n",
    "from rest_framework.viewsets import ModelViewSet\n",
    "from rest_framework.pagination import PageNumberPagination\n",
    "from rest_framework.views import APIView\n",
    "from rest_framework.response import Response\n",
    "from rest_framework import status\n",
    "from rest_framework.decorators import action\n",
    "from order.models import Order, OrderDetails\n",
    "from customer.models import Customer\n",
    "from order.serializer import OrderSerializer\n",
    "from django.db.models import Sum"
   ]
  },
  {
   "cell_type": "code",
   "execution_count": 25,
   "metadata": {},
   "outputs": [
    {
     "data": {
      "text/plain": [
       "[{'Product': 'Long-Sleeve Logo Jersey'},\n",
       " {'Product': 'Patch kit'},\n",
       " {'Product': 'Sport-100'},\n",
       " {'Product': 'Road-350-W'},\n",
       " {'Product': 'Fender Set - Mountain'},\n",
       " {'Product': 'Road Tire Tube'},\n",
       " {'Product': 'Road Tire Tube'},\n",
       " {'Product': 'Water Bottle'},\n",
       " {'Product': 'Mountain Tire Tube'},\n",
       " {'Product': \"Women's Mountain Shorts\"},\n",
       " {'Product': 'Long-Sleeve Logo Jersey'},\n",
       " {'Product': 'Fender Set - Mountain'},\n",
       " {'Product': 'Short-Sleeve Classic Jersey'},\n",
       " {'Product': 'Mountain Tire Tube'},\n",
       " {'Product': 'Road-250'},\n",
       " {'Product': 'Mountain Bottle Cage'},\n",
       " {'Product': 'Road Bottle Cage'},\n",
       " {'Product': 'Water Bottle'},\n",
       " {'Product': 'Road Bottle Cage'},\n",
       " {'Product': 'Road-750'},\n",
       " {'Product': 'Sport-100'},\n",
       " {'Product': 'Short-Sleeve Classic Jersey'},\n",
       " {'Product': 'Fender Set - Mountain'},\n",
       " {'Product': 'Mountain Bottle Cage'},\n",
       " {'Product': 'Patch kit'},\n",
       " {'Product': 'Sport-100'},\n",
       " {'Product': 'Bike Wash'},\n",
       " {'Product': 'Touring Tire'},\n",
       " {'Product': 'HL Road Tire'},\n",
       " {'Product': 'Mountain Tire Tube'}]"
      ]
     },
     "execution_count": 25,
     "metadata": {},
     "output_type": "execute_result"
    }
   ],
   "source": [
    "Products = OrderDetails.objects.all().values('Product')[:150:5]\n",
    "Products"
   ]
  },
  {
   "cell_type": "code",
   "execution_count": 19,
   "metadata": {},
   "outputs": [
    {
     "data": {
      "text/plain": [
       "{'predicted_sales': 403207.3199999975}"
      ]
     },
     "execution_count": 19,
     "metadata": {},
     "output_type": "execute_result"
    }
   ],
   "source": [
    "qry = OrderDetails.objects.filter(ProductPrice__gt=50).aggregate(predicted_sales=Sum('ProductPrice'))\n",
    "qry"
   ]
  }
 ],
 "metadata": {
  "kernelspec": {
   "display_name": "Django Shell-Plus",
   "language": "python",
   "name": "django_extensions"
  },
  "language_info": {
   "codemirror_mode": {
    "name": "ipython",
    "version": 3
   },
   "file_extension": ".py",
   "mimetype": "text/x-python",
   "name": "python",
   "nbconvert_exporter": "python",
   "pygments_lexer": "ipython3",
   "version": "3.6.7rc1"
  }
 },
 "nbformat": 4,
 "nbformat_minor": 2
}
